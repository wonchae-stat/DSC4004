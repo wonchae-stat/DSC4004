{
  "nbformat": 4,
  "nbformat_minor": 0,
  "metadata": {
    "colab": {
      "name": "Untitled0.ipynb",
      "provenance": [],
      "authorship_tag": "ABX9TyP2NbWTVKjoE4BUJgOlTtsh",
      "include_colab_link": true
    },
    "kernelspec": {
      "name": "python3",
      "display_name": "Python 3"
    }
  },
  "cells": [
    {
      "cell_type": "markdown",
      "metadata": {
        "id": "view-in-github",
        "colab_type": "text"
      },
      "source": [
        "<a href=\"https://colab.research.google.com/github/wonchae-stat/test/blob/master/Untitled0.ipynb\" target=\"_parent\"><img src=\"https://colab.research.google.com/assets/colab-badge.svg\" alt=\"Open In Colab\"/></a>"
      ]
    },
    {
      "cell_type": "code",
      "metadata": {
        "id": "1Y_r2FL_TER8",
        "colab_type": "code",
        "colab": {
          "base_uri": "https://localhost:8080/",
          "height": 142
        },
        "outputId": "d7c8a943-3a96-4bf0-c657-6e70beb6a8c2"
      },
      "source": [
        "from google.colab import drive\n",
        "drive.mount('Gdrive')"
      ],
      "execution_count": 1,
      "outputs": [
        {
          "output_type": "stream",
          "text": [
            "ERROR! Session/line number was not unique in database. History logging moved to new session 59\n",
            "Go to this URL in a browser: https://accounts.google.com/o/oauth2/auth?client_id=947318989803-6bn6qk8qdgf4n4g3pfee6491hc0brc4i.apps.googleusercontent.com&redirect_uri=urn%3aietf%3awg%3aoauth%3a2.0%3aoob&response_type=code&scope=email%20https%3a%2f%2fwww.googleapis.com%2fauth%2fdocs.test%20https%3a%2f%2fwww.googleapis.com%2fauth%2fdrive%20https%3a%2f%2fwww.googleapis.com%2fauth%2fdrive.photos.readonly%20https%3a%2f%2fwww.googleapis.com%2fauth%2fpeopleapi.readonly\n",
            "\n",
            "Enter your authorization code:\n",
            "··········\n",
            "Mounted at Gdrive\n"
          ],
          "name": "stdout"
        }
      ]
    },
    {
      "cell_type": "code",
      "metadata": {
        "id": "Ny00l6ehTUQW",
        "colab_type": "code",
        "colab": {}
      },
      "source": [
        "import pandas as pd\n",
        "df=pd.read_csv('Gdrive/My Drive/kbo.csv')"
      ],
      "execution_count": 0,
      "outputs": []
    },
    {
      "cell_type": "code",
      "metadata": {
        "id": "GGc0E6hZWKpM",
        "colab_type": "code",
        "colab": {
          "base_uri": "https://localhost:8080/",
          "height": 225
        },
        "outputId": "5ec3d518-5e54-4cf2-d48f-098246c5cc12"
      },
      "source": [
        "df"
      ],
      "execution_count": 19,
      "outputs": [
        {
          "output_type": "execute_result",
          "data": {
            "text/html": [
              "<div>\n",
              "<style scoped>\n",
              "    .dataframe tbody tr th:only-of-type {\n",
              "        vertical-align: middle;\n",
              "    }\n",
              "\n",
              "    .dataframe tbody tr th {\n",
              "        vertical-align: top;\n",
              "    }\n",
              "\n",
              "    .dataframe thead th {\n",
              "        text-align: right;\n",
              "    }\n",
              "</style>\n",
              "<table border=\"1\" class=\"dataframe\">\n",
              "  <thead>\n",
              "    <tr style=\"text-align: right;\">\n",
              "      <th></th>\n",
              "      <th>연도</th>\n",
              "      <th>넥센</th>\n",
              "      <th>두산</th>\n",
              "      <th>롯데</th>\n",
              "      <th>삼성</th>\n",
              "      <th>한화</th>\n",
              "      <th>기아</th>\n",
              "      <th>KT</th>\n",
              "      <th>LG</th>\n",
              "      <th>NC</th>\n",
              "      <th>SK</th>\n",
              "    </tr>\n",
              "  </thead>\n",
              "  <tbody>\n",
              "    <tr>\n",
              "      <th>0</th>\n",
              "      <td>2013</td>\n",
              "      <td>0.930190</td>\n",
              "      <td>0.894381</td>\n",
              "      <td>0.643282</td>\n",
              "      <td>0.083438</td>\n",
              "      <td>0.348601</td>\n",
              "      <td>0.841109</td>\n",
              "      <td>NaN</td>\n",
              "      <td>0.642623</td>\n",
              "      <td>0.422232</td>\n",
              "      <td>0.014408</td>\n",
              "    </tr>\n",
              "    <tr>\n",
              "      <th>1</th>\n",
              "      <td>2014</td>\n",
              "      <td>0.632123</td>\n",
              "      <td>0.151969</td>\n",
              "      <td>0.246794</td>\n",
              "      <td>0.503433</td>\n",
              "      <td>0.291757</td>\n",
              "      <td>0.426368</td>\n",
              "      <td>NaN</td>\n",
              "      <td>0.894836</td>\n",
              "      <td>0.216721</td>\n",
              "      <td>0.671124</td>\n",
              "    </tr>\n",
              "    <tr>\n",
              "      <th>2</th>\n",
              "      <td>2015</td>\n",
              "      <td>0.440086</td>\n",
              "      <td>0.329936</td>\n",
              "      <td>0.336789</td>\n",
              "      <td>0.763634</td>\n",
              "      <td>0.792061</td>\n",
              "      <td>0.400980</td>\n",
              "      <td>0.640357</td>\n",
              "      <td>0.214097</td>\n",
              "      <td>0.963501</td>\n",
              "      <td>0.658230</td>\n",
              "    </tr>\n",
              "    <tr>\n",
              "      <th>3</th>\n",
              "      <td>2016</td>\n",
              "      <td>0.130430</td>\n",
              "      <td>0.577569</td>\n",
              "      <td>0.486635</td>\n",
              "      <td>0.701314</td>\n",
              "      <td>0.471647</td>\n",
              "      <td>0.387510</td>\n",
              "      <td>0.946759</td>\n",
              "      <td>0.597811</td>\n",
              "      <td>0.034982</td>\n",
              "      <td>0.145281</td>\n",
              "    </tr>\n",
              "    <tr>\n",
              "      <th>4</th>\n",
              "      <td>2017</td>\n",
              "      <td>0.462329</td>\n",
              "      <td>0.275846</td>\n",
              "      <td>0.377499</td>\n",
              "      <td>0.664585</td>\n",
              "      <td>0.197993</td>\n",
              "      <td>0.932366</td>\n",
              "      <td>0.562492</td>\n",
              "      <td>0.839347</td>\n",
              "      <td>0.911320</td>\n",
              "      <td>0.813710</td>\n",
              "    </tr>\n",
              "    <tr>\n",
              "      <th>5</th>\n",
              "      <td>2018</td>\n",
              "      <td>0.456202</td>\n",
              "      <td>0.327785</td>\n",
              "      <td>0.560756</td>\n",
              "      <td>0.087021</td>\n",
              "      <td>0.949072</td>\n",
              "      <td>0.121588</td>\n",
              "      <td>0.414984</td>\n",
              "      <td>0.480019</td>\n",
              "      <td>0.414638</td>\n",
              "      <td>0.732491</td>\n",
              "    </tr>\n",
              "  </tbody>\n",
              "</table>\n",
              "</div>"
            ],
            "text/plain": [
              "     연도        넥센        두산        롯데  ...        KT        LG        NC        SK\n",
              "0  2013  0.930190  0.894381  0.643282  ...       NaN  0.642623  0.422232  0.014408\n",
              "1  2014  0.632123  0.151969  0.246794  ...       NaN  0.894836  0.216721  0.671124\n",
              "2  2015  0.440086  0.329936  0.336789  ...  0.640357  0.214097  0.963501  0.658230\n",
              "3  2016  0.130430  0.577569  0.486635  ...  0.946759  0.597811  0.034982  0.145281\n",
              "4  2017  0.462329  0.275846  0.377499  ...  0.562492  0.839347  0.911320  0.813710\n",
              "5  2018  0.456202  0.327785  0.560756  ...  0.414984  0.480019  0.414638  0.732491\n",
              "\n",
              "[6 rows x 11 columns]"
            ]
          },
          "metadata": {
            "tags": []
          },
          "execution_count": 19
        }
      ]
    }
  ]
}